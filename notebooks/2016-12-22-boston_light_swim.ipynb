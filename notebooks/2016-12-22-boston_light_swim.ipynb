{
 "cells": [
  {
   "cell_type": "markdown",
   "metadata": {},
   "source": [
    "# The Boston Light Swim temperature analysis with Python\n",
    "\n",
    "In the past we demonstrated how to perform a CSW catalog search with [`OWSLib`](https://ioos.github.io/notebooks_demos//notebooks/2016-12-19-exploring_csw),\n",
    "and how to obtain near real-time data with [`pyoos`](https://ioos.github.io/notebooks_demos//notebooks/2016-10-12-fetching_data).\n",
    "In this notebook we will use both to find all observations and model data around the Boston Harbor to access the sea water temperature.\n",
    "\n",
    "\n",
    "This workflow is part of an example to advise swimmers of the annual [Boston lighthouse swim](http://bostonlightswim.org/) of the Boston Harbor water temperature conditions prior to the race. For more information regarding the workflow presented here see [Signell, Richard P.; Fernandes, Filipe; Wilcox, Kyle.   2016. \"Dynamic Reusable Workflows for Ocean Science.\" *J. Mar. Sci. Eng.* 4, no. 4: 68](http://dx.doi.org/10.3390/jmse4040068).\n",
    "\n",
    "(This notebook uses a custom `ioos_tools` module that needs to be added to the path separately. We recommend cloning the [repository](https://github.com/ioos/notebooks_demos) on GitHub which already includes the most update version of `ioos_tools`.)"
   ]
  },
  {
   "cell_type": "code",
   "execution_count": 1,
   "metadata": {
    "collapsed": true
   },
   "outputs": [],
   "source": [
    "import os\n",
    "import sys\n",
    "import warnings\n",
    "\n",
    "ioos_tools = os.path.join(os.path.pardir)\n",
    "sys.path.append(ioos_tools)\n",
    "\n",
    "# Suppresing warnings for a \"pretty output.\"\n",
    "warnings.simplefilter('ignore')"
   ]
  },
  {
   "cell_type": "markdown",
   "metadata": {},
   "source": [
    "This notebook is quite big and complex,\n",
    "so to help us keep things organized we'll define a cell with the most important options and switches.\n",
    "\n",
    "Below we can define the date,\n",
    "bounding box, phenomena `SOS` and `CF` names and units,\n",
    "and the catalogs we will search."
   ]
  },
  {
   "cell_type": "code",
   "execution_count": 2,
   "metadata": {},
   "outputs": [
    {
     "name": "stdout",
     "output_type": "stream",
     "text": [
      "Overwriting config.yaml\n"
     ]
    }
   ],
   "source": [
    "%%writefile config.yaml\n",
    "\n",
    "# Specify a YYYY-MM-DD hh:mm:ss date or integer day offset.\n",
    "# If both start and stop are offsets they will be computed relative to datetime.today() at midnight.\n",
    "# Use the dates commented below to reproduce the last Boston Light Swim event forecast.\n",
    "date:\n",
    "    start: -5 # 2016-8-16 00:00:00\n",
    "    stop: +4 # 2016-8-29 00:00:00\n",
    "\n",
    "run_name: 'latest'\n",
    "\n",
    "# Boston harbor.\n",
    "region:\n",
    "    bbox: [-71.3, 42.03, -70.57, 42.63]\n",
    "    crs: 'urn:ogc:def:crs:OGC:1.3:CRS84'\n",
    "\n",
    "sos_name: 'sea_water_temperature'\n",
    "\n",
    "cf_names:\n",
    "    - sea_water_temperature\n",
    "    - sea_surface_temperature\n",
    "    - sea_water_potential_temperature\n",
    "    - equivalent_potential_temperature\n",
    "    - sea_water_conservative_temperature\n",
    "    - pseudo_equivalent_potential_temperature\n",
    "\n",
    "units: 'celsius'\n",
    "\n",
    "catalogs:\n",
    "    - https://data.ioos.us/csw\n",
    "    - https://gamone.whoi.edu/csw"
   ]
  },
  {
   "cell_type": "markdown",
   "metadata": {},
   "source": [
    "We'll print some of the search configuration options along the way to keep track of them."
   ]
  },
  {
   "cell_type": "code",
   "execution_count": 3,
   "metadata": {},
   "outputs": [
    {
     "name": "stdout",
     "output_type": "stream",
     "text": [
      "Saving data inside directory /home/filipe/IOOS/notebooks_demos/notebooks/latest\n",
      "*********************** Run information ************************\n",
      "Run date: 2017-07-03 20:12:03\n",
      "Start: 2017-06-28 00:00:00\n",
      "Stop: 2017-07-07 00:00:00\n",
      "Bounding box: -71.30, 42.03,-70.57, 42.63\n"
     ]
    }
   ],
   "source": [
    "import shutil\n",
    "from datetime import datetime\n",
    "from ioos_tools.ioos import parse_config\n",
    "\n",
    "config = parse_config('config.yaml')\n",
    "\n",
    "# Saves downloaded data into a temporary directory.\n",
    "save_dir = os.path.abspath(config['run_name'])\n",
    "if os.path.exists(save_dir):\n",
    "    shutil.rmtree(save_dir)\n",
    "os.makedirs(save_dir)\n",
    "\n",
    "fmt = '{:*^64}'.format\n",
    "print(fmt('Saving data inside directory {}'.format(save_dir)))\n",
    "print(fmt(' Run information '))\n",
    "print('Run date: {:%Y-%m-%d %H:%M:%S}'.format(datetime.utcnow()))\n",
    "print('Start: {:%Y-%m-%d %H:%M:%S}'.format(config['date']['start']))\n",
    "print('Stop: {:%Y-%m-%d %H:%M:%S}'.format(config['date']['stop']))\n",
    "print('Bounding box: {0:3.2f}, {1:3.2f},'\n",
    "      '{2:3.2f}, {3:3.2f}'.format(*config['region']['bbox']))"
   ]
  },
  {
   "cell_type": "markdown",
   "metadata": {},
   "source": [
    "We already created an `OWSLib.fes` filter [before](https://ioos.github.io/notebooks_demos//notebooks/2016-12-19-exploring_csw).\n",
    "The main difference here is that we do not want the atmosphere model data,\n",
    "so we are filtering out all the `GRIB-2` data format."
   ]
  },
  {
   "cell_type": "code",
   "execution_count": 4,
   "metadata": {
    "collapsed": true
   },
   "outputs": [],
   "source": [
    "def make_filter(config):\n",
    "    from owslib import fes\n",
    "    from ioos_tools.ioos import fes_date_filter\n",
    "    kw = dict(wildCard='*', escapeChar='\\\\',\n",
    "              singleChar='?', propertyname='apiso:AnyText')\n",
    "\n",
    "    or_filt = fes.Or([fes.PropertyIsLike(literal=('*%s*' % val), **kw)\n",
    "                      for val in config['cf_names']])\n",
    "\n",
    "    not_filt = fes.Not([fes.PropertyIsLike(literal='GRIB-2', **kw)])\n",
    "\n",
    "    begin, end = fes_date_filter(config['date']['start'],\n",
    "                                 config['date']['stop'])\n",
    "    bbox_crs = fes.BBox(config['region']['bbox'],\n",
    "                        crs=config['region']['crs'])\n",
    "    filter_list = [fes.And([bbox_crs, begin, end, or_filt, not_filt])]\n",
    "    return filter_list\n",
    "\n",
    "\n",
    "filter_list = make_filter(config)"
   ]
  },
  {
   "cell_type": "markdown",
   "metadata": {},
   "source": [
    "In the cell below we ask the catalog for all the returns that match the filter and have an OPeNDAP endpoint."
   ]
  },
  {
   "cell_type": "code",
   "execution_count": 5,
   "metadata": {
    "code_folding": [],
    "scrolled": false
   },
   "outputs": [
    {
     "name": "stdout",
     "output_type": "stream",
     "text": [
      "********************* Catalog information **********************\n",
      "URL: https://data.ioos.us/csw\n",
      "Number of datasets available: 17\n",
      "HYbrid Coordinate Ocean Model (HYCOM): Global\n",
      "NECOFS (FVCOM) - Scituate - Latest Forecast\n",
      "NECOFS GOM3 (FVCOM) - Northeast US - Latest Forecast\n",
      "NECOFS Massachusetts (FVCOM) - Boston - Latest Forecast\n",
      "NECOFS Massachusetts (FVCOM) - Massachusetts Coastal - Latest Forecast\n",
      "NERACOOS Gulf of Maine Ocean Array: Realtime Buoy Observations: A01 Massachusetts Bay: A01 ACCELEROMETER Massachusetts Bay\n",
      "NOAA Coral Reef Watch Operational Daily Near-Real-Time Global 5-km Satellite Coral Bleaching Monitoring Products\n",
      "COAWST Modeling System: USEast: ROMS-WRF-SWAN coupled model (aka CNAPS)\n",
      "Coupled Northwest Atlantic Prediction System (CNAPS)\n",
      "Directional wave and sea surface temperature measurements collected in situ by Datawell Mark 3 directional buoy located near ASTORIA CANYON, OR from 2016/03/30 17:00:00 to 2017/07/03 18:11:47.\n",
      "Directional wave and sea surface temperature measurements collected in situ by Datawell Mark 3 directional buoy located near CLATSOP SPIT, OR from 2016/10/12 17:00:00 to 2017/07/03 18:00:53.\n",
      "Directional wave and sea surface temperature measurements collected in situ by Datawell Mark 3 directional buoy located near LAKESIDE, OR from 2017/03/31 23:00:00 to 2017/07/03 17:30:42.\n",
      "Directional wave and sea surface temperature measurements collected in situ by Datawell Mark 3 directional buoy located near LOWER COOK INLET, AK from 2016/12/16 00:00:00 to 2017/07/03 18:09:44.\n",
      "Directional wave and sea surface temperature measurements collected in situ by Datawell Mark 3 directional buoy located near OCEAN STATION PAPA from 2015/01/01 01:00:00 to 2017/07/03 17:40:54.\n",
      "Directional wave and sea surface temperature measurements collected in situ by Datawell Mark 3 directional buoy located near POST-RECOVERY GRAYS HARBOR from 2017/06/29 13:00:00 to 2017/07/03 17:53:36.\n",
      "Directional wave and sea surface temperature measurements collected in situ by Datawell Mark 3 directional buoy located near SCRIPPS NEARSHORE, CA from 2015/01/07 23:00:00 to 2017/07/03 18:00:18.\n",
      "G1SST, 1km blended SST\n",
      "***************************** DAP ******************************\n",
      "http://oos.soest.hawaii.edu/thredds/dodsC/hioos/satellite/dhw_5km.html\n",
      "http://oos.soest.hawaii.edu/thredds/dodsC/pacioos/hycom/global.html\n",
      "http://thredds.cdip.ucsd.edu/thredds/dodsC/cdip/realtime/162p1_rt.nc.html\n",
      "http://thredds.cdip.ucsd.edu/thredds/dodsC/cdip/realtime/166p1_rt.nc.html\n",
      "http://thredds.cdip.ucsd.edu/thredds/dodsC/cdip/realtime/179p1_rt.nc.html\n",
      "http://thredds.cdip.ucsd.edu/thredds/dodsC/cdip/realtime/201p1_rt.nc.html\n",
      "http://thredds.cdip.ucsd.edu/thredds/dodsC/cdip/realtime/204p1_rt.nc.html\n",
      "http://thredds.cdip.ucsd.edu/thredds/dodsC/cdip/realtime/231p1_rt.nc.html\n",
      "http://thredds.cdip.ucsd.edu/thredds/dodsC/cdip/realtime/997p1_rt.nc.html\n",
      "http://thredds.secoora.org/thredds/dodsC/G1_SST_GLOBAL.nc.html\n",
      "http://thredds.secoora.org/thredds/dodsC/SECOORA_NCSU_CNAPS.nc.html\n",
      "http://www.neracoos.org/thredds/dodsC/UMO/DSG/SOS/A01/Accelerometer/HistoricRealtime/Agg.ncml.html\n",
      "http://www.smast.umassd.edu:8080/thredds/dodsC/FVCOM/NECOFS/Forecasts/NECOFS_FVCOM_OCEAN_BOSTON_FORECAST.nc.html\n",
      "http://www.smast.umassd.edu:8080/thredds/dodsC/FVCOM/NECOFS/Forecasts/NECOFS_FVCOM_OCEAN_MASSBAY_FORECAST.nc.html\n",
      "http://www.smast.umassd.edu:8080/thredds/dodsC/FVCOM/NECOFS/Forecasts/NECOFS_FVCOM_OCEAN_SCITUATE_FORECAST.nc.html\n",
      "http://www.smast.umassd.edu:8080/thredds/dodsC/FVCOM/NECOFS/Forecasts/NECOFS_GOM3_FORECAST.nc.html\n",
      "\n",
      "\n",
      "URL: https://gamone.whoi.edu/csw\n",
      "Number of datasets available: 2\n",
      "COAWST Forecast System : USGS : US East Coast and Gulf of Mexico (Experimental)\n",
      "COAWST Modeling System: USEast: ROMS-WRF-SWAN coupled model (aka CNAPS)\n",
      "***************************** DAP ******************************\n",
      "http://geoport-dev.whoi.edu/thredds/dodsC/coawst_4/use/fmrc/coawst_4_use_best.ncd.html\n",
      "\n",
      "\n"
     ]
    }
   ],
   "source": [
    "from ioos_tools.ioos import service_urls, get_csw_records\n",
    "from owslib.csw import CatalogueServiceWeb\n",
    "\n",
    "\n",
    "dap_urls = []\n",
    "print(fmt(' Catalog information '))\n",
    "for endpoint in config['catalogs']:\n",
    "    print('URL: {}'.format(endpoint))\n",
    "    try:\n",
    "        csw = CatalogueServiceWeb(endpoint, timeout=120)\n",
    "    except Exception as e:\n",
    "        print('{}'.format(e))\n",
    "        continue\n",
    "    csw = get_csw_records(csw, filter_list, esn='full')\n",
    "    OPeNDAP = service_urls(csw.records, identifier='OPeNDAP:OPeNDAP')\n",
    "    odp = service_urls(csw.records, identifier='urn:x-esri:specification:ServiceType:odp:url')\n",
    "    dap = OPeNDAP + odp\n",
    "    dap_urls.extend(dap)\n",
    "\n",
    "    print('Number of datasets available: {}'.format(len(csw.records.keys())))\n",
    "\n",
    "    for rec, item in csw.records.items():\n",
    "        print('{}'.format(item.title))\n",
    "    if dap:\n",
    "        print(fmt(' DAP '))\n",
    "        for url in dap:\n",
    "            print('{}.html'.format(url))\n",
    "    print('\\n')\n",
    "\n",
    "# Get only unique endpoints.\n",
    "dap_urls = list(set(dap_urls))"
   ]
  },
  {
   "cell_type": "markdown",
   "metadata": {},
   "source": [
    "We found some models, and observations from NERACOOS there.\n",
    "However, we do know that there are some buoys from NDBC and CO-OPS available too.\n",
    "Also, those NERACOOS observations seem to be from a [CTD](http://www.neracoos.org/thredds/dodsC/UMO/DSG/SOS/A01/CTD1m/HistoricRealtime/Agg.ncml.html) mounted at 65 meters below the sea surface. Rendering them useless from our purpose.\n",
    "\n",
    "So let's use the catalog only for the models by filtering the observations with `is_station` below.\n",
    "And we'll rely `CO-OPS` and `NDBC` services for the observations."
   ]
  },
  {
   "cell_type": "code",
   "execution_count": 6,
   "metadata": {},
   "outputs": [
    {
     "name": "stdout",
     "output_type": "stream",
     "text": [
      "************************* Filtered DAP *************************\n",
      "http://thredds.secoora.org/thredds/dodsC/G1_SST_GLOBAL.nc.html\n",
      "http://geoport-dev.whoi.edu/thredds/dodsC/coawst_4/use/fmrc/coawst_4_use_best.ncd.html\n",
      "http://www.smast.umassd.edu:8080/thredds/dodsC/FVCOM/NECOFS/Forecasts/NECOFS_GOM3_FORECAST.nc.html\n",
      "http://www.smast.umassd.edu:8080/thredds/dodsC/FVCOM/NECOFS/Forecasts/NECOFS_FVCOM_OCEAN_BOSTON_FORECAST.nc.html\n",
      "http://oos.soest.hawaii.edu/thredds/dodsC/pacioos/hycom/global.html\n",
      "http://oos.soest.hawaii.edu/thredds/dodsC/hioos/satellite/dhw_5km.html\n",
      "http://thredds.secoora.org/thredds/dodsC/SECOORA_NCSU_CNAPS.nc.html\n",
      "http://www.smast.umassd.edu:8080/thredds/dodsC/FVCOM/NECOFS/Forecasts/NECOFS_FVCOM_OCEAN_MASSBAY_FORECAST.nc.html\n",
      "http://www.smast.umassd.edu:8080/thredds/dodsC/FVCOM/NECOFS/Forecasts/NECOFS_FVCOM_OCEAN_SCITUATE_FORECAST.nc.html\n"
     ]
    }
   ],
   "source": [
    "from ioos_tools.ioos import is_station\n",
    "\n",
    "# Filter out some station endpoints.\n",
    "non_stations = []\n",
    "for url in dap_urls:\n",
    "    try:\n",
    "        if not is_station(url):\n",
    "            non_stations.append(url)\n",
    "    except (RuntimeError, OSError, IOError) as e:\n",
    "        print('Could not access URL {}. {!r}'.format(url, e))\n",
    "\n",
    "dap_urls = non_stations\n",
    "\n",
    "print(fmt(' Filtered DAP '))\n",
    "for url in dap_urls:\n",
    "    print('{}.html'.format(url))"
   ]
  },
  {
   "cell_type": "markdown",
   "metadata": {},
   "source": [
    "Now we can use `pyoos` collectors for `NdbcSos`,"
   ]
  },
  {
   "cell_type": "code",
   "execution_count": 7,
   "metadata": {},
   "outputs": [
    {
     "name": "stdout",
     "output_type": "stream",
     "text": [
      "******************* NDBC Collector offerings *******************\n",
      "National Data Buoy Center SOS: 988 offerings\n"
     ]
    }
   ],
   "source": [
    "from pyoos.collectors.ndbc.ndbc_sos import NdbcSos\n",
    "\n",
    "collector_ndbc = NdbcSos()\n",
    "\n",
    "collector_ndbc.set_bbox(config['region']['bbox'])\n",
    "collector_ndbc.end_time = config['date']['stop']\n",
    "collector_ndbc.start_time = config['date']['start']\n",
    "collector_ndbc.variables = [config['sos_name']]\n",
    "\n",
    "ofrs = collector_ndbc.server.offerings\n",
    "title = collector_ndbc.server.identification.title\n",
    "print(fmt(' NDBC Collector offerings '))\n",
    "print('{}: {} offerings'.format(title, len(ofrs)))"
   ]
  },
  {
   "cell_type": "code",
   "execution_count": 8,
   "metadata": {},
   "outputs": [
    {
     "data": {
      "text/html": [
       "<div>\n",
       "<style>\n",
       "    .dataframe thead tr:only-child th {\n",
       "        text-align: right;\n",
       "    }\n",
       "\n",
       "    .dataframe thead th {\n",
       "        text-align: left;\n",
       "    }\n",
       "\n",
       "    .dataframe tbody tr th {\n",
       "        vertical-align: top;\n",
       "    }\n",
       "</style>\n",
       "<table border=\"1\" class=\"dataframe\">\n",
       "  <thead>\n",
       "    <tr style=\"text-align: right;\">\n",
       "      <th></th>\n",
       "      <th>depth</th>\n",
       "      <th>lat</th>\n",
       "      <th>lon</th>\n",
       "      <th>sensor</th>\n",
       "      <th>station_name</th>\n",
       "    </tr>\n",
       "    <tr>\n",
       "      <th>station_code</th>\n",
       "      <th></th>\n",
       "      <th></th>\n",
       "      <th></th>\n",
       "      <th></th>\n",
       "      <th></th>\n",
       "    </tr>\n",
       "  </thead>\n",
       "  <tbody>\n",
       "    <tr>\n",
       "      <th>44013</th>\n",
       "      <td>0.6</td>\n",
       "      <td>42.346</td>\n",
       "      <td>-70.651</td>\n",
       "      <td>urn:ioos:sensor:wmo:44013::watertemp1</td>\n",
       "      <td>BOSTON 16 NM East of Boston, MA</td>\n",
       "    </tr>\n",
       "  </tbody>\n",
       "</table>\n",
       "</div>"
      ],
      "text/plain": [
       "              depth     lat     lon                                 sensor  \\\n",
       "station_code                                                                 \n",
       "44013           0.6  42.346 -70.651  urn:ioos:sensor:wmo:44013::watertemp1   \n",
       "\n",
       "                                 station_name  \n",
       "station_code                                   \n",
       "44013         BOSTON 16 NM East of Boston, MA  "
      ]
     },
     "execution_count": 8,
     "metadata": {},
     "output_type": "execute_result"
    }
   ],
   "source": [
    "import pandas as pd\n",
    "from ioos_tools.ioos import collector2table\n",
    "\n",
    "ndbc = collector2table(collector=collector_ndbc,\n",
    "                       config=config,\n",
    "                       col='sea_water_temperature (C)')\n",
    "\n",
    "if ndbc:\n",
    "    data = dict(\n",
    "        station_name=[s._metadata.get('station_name') for s in ndbc],\n",
    "        station_code=[s._metadata.get('station_code') for s in ndbc],\n",
    "        sensor=[s._metadata.get('sensor') for s in ndbc],\n",
    "        lon=[s._metadata.get('lon') for s in ndbc],\n",
    "        lat=[s._metadata.get('lat') for s in ndbc],\n",
    "        depth=[s._metadata.get('depth') for s in ndbc],\n",
    "    )\n",
    "\n",
    "table = pd.DataFrame(data).set_index('station_code')\n",
    "table"
   ]
  },
  {
   "cell_type": "markdown",
   "metadata": {},
   "source": [
    "and `CoopsSos`."
   ]
  },
  {
   "cell_type": "code",
   "execution_count": 9,
   "metadata": {},
   "outputs": [
    {
     "name": "stdout",
     "output_type": "stream",
     "text": [
      "********************* Collector offerings **********************\n",
      "NOAA.NOS.CO-OPS SOS: 1181 offerings\n"
     ]
    }
   ],
   "source": [
    "from pyoos.collectors.coops.coops_sos import CoopsSos\n",
    "\n",
    "collector_coops = CoopsSos()\n",
    "\n",
    "collector_coops.set_bbox(config['region']['bbox'])\n",
    "collector_coops.end_time = config['date']['stop']\n",
    "collector_coops.start_time = config['date']['start']\n",
    "collector_coops.variables = [config['sos_name']]\n",
    "\n",
    "ofrs = collector_coops.server.offerings\n",
    "title = collector_coops.server.identification.title\n",
    "print(fmt(' Collector offerings '))\n",
    "print('{}: {} offerings'.format(title, len(ofrs)))"
   ]
  },
  {
   "cell_type": "code",
   "execution_count": 10,
   "metadata": {
    "scrolled": true
   },
   "outputs": [
    {
     "data": {
      "text/html": [
       "<div>\n",
       "<style>\n",
       "    .dataframe thead tr:only-child th {\n",
       "        text-align: right;\n",
       "    }\n",
       "\n",
       "    .dataframe thead th {\n",
       "        text-align: left;\n",
       "    }\n",
       "\n",
       "    .dataframe tbody tr th {\n",
       "        vertical-align: top;\n",
       "    }\n",
       "</style>\n",
       "<table border=\"1\" class=\"dataframe\">\n",
       "  <thead>\n",
       "    <tr style=\"text-align: right;\">\n",
       "      <th></th>\n",
       "      <th>depth</th>\n",
       "      <th>lat</th>\n",
       "      <th>lon</th>\n",
       "      <th>sensor</th>\n",
       "      <th>station_name</th>\n",
       "    </tr>\n",
       "    <tr>\n",
       "      <th>station_code</th>\n",
       "      <th></th>\n",
       "      <th></th>\n",
       "      <th></th>\n",
       "      <th></th>\n",
       "      <th></th>\n",
       "    </tr>\n",
       "  </thead>\n",
       "  <tbody>\n",
       "    <tr>\n",
       "      <th>44013</th>\n",
       "      <td>0.6</td>\n",
       "      <td>42.346</td>\n",
       "      <td>-70.651</td>\n",
       "      <td>urn:ioos:sensor:wmo:44013::watertemp1</td>\n",
       "      <td>BOSTON 16 NM East of Boston, MA</td>\n",
       "    </tr>\n",
       "  </tbody>\n",
       "</table>\n",
       "</div>"
      ],
      "text/plain": [
       "              depth     lat     lon                                 sensor  \\\n",
       "station_code                                                                 \n",
       "44013           0.6  42.346 -70.651  urn:ioos:sensor:wmo:44013::watertemp1   \n",
       "\n",
       "                                 station_name  \n",
       "station_code                                   \n",
       "44013         BOSTON 16 NM East of Boston, MA  "
      ]
     },
     "execution_count": 10,
     "metadata": {},
     "output_type": "execute_result"
    }
   ],
   "source": [
    "coops = collector2table(collector=collector_coops,\n",
    "                        config=config,\n",
    "                        col='sea_water_temperature (C)')\n",
    "\n",
    "if coops:\n",
    "    data = dict(\n",
    "        station_name=[s._metadata.get('station_name') for s in coops],\n",
    "        station_code=[s._metadata.get('station_code') for s in coops],\n",
    "        sensor=[s._metadata.get('sensor') for s in coops],\n",
    "        lon=[s._metadata.get('lon') for s in coops],\n",
    "        lat=[s._metadata.get('lat') for s in coops],\n",
    "        depth=[s._metadata.get('depth') for s in coops],\n",
    "    )\n",
    "\n",
    "table = pd.DataFrame(data).set_index('station_code')\n",
    "table"
   ]
  },
  {
   "cell_type": "markdown",
   "metadata": {},
   "source": [
    "We will join all the observations into an uniform series, interpolated to 1-hour interval, for the model-data comparison.\n",
    "\n",
    "This step is necessary because the observations can be 7 or 10 minutes resolution,\n",
    "while the models can be 30 to 60 minutes."
   ]
  },
  {
   "cell_type": "code",
   "execution_count": 11,
   "metadata": {
    "collapsed": true,
    "scrolled": true
   },
   "outputs": [],
   "source": [
    "data = ndbc + coops\n",
    "\n",
    "index = pd.date_range(start=config['date']['start'].replace(tzinfo=None),\n",
    "                      end=config['date']['stop'].replace(tzinfo=None),\n",
    "                      freq='1H')\n",
    "\n",
    "# Preserve metadata with `reindex`.\n",
    "observations = []\n",
    "for series in data:\n",
    "    _metadata = series._metadata\n",
    "    obs = series.reindex(index=index, limit=1, method='nearest')\n",
    "    obs._metadata = _metadata\n",
    "    observations.append(obs)"
   ]
  },
  {
   "cell_type": "markdown",
   "metadata": {},
   "source": [
    "In this next cell we will save the data for quicker access later."
   ]
  },
  {
   "cell_type": "code",
   "execution_count": 12,
   "metadata": {
    "collapsed": true,
    "scrolled": false
   },
   "outputs": [],
   "source": [
    "import iris\n",
    "from ioos_tools.tardis import series2cube\n",
    "\n",
    "attr = dict(\n",
    "    featureType='timeSeries',\n",
    "    Conventions='CF-1.6',\n",
    "    standard_name_vocabulary='CF-1.6',\n",
    "    cdm_data_type='Station',\n",
    "    comment='Data from http://opendap.co-ops.nos.noaa.gov'\n",
    ")\n",
    "\n",
    "\n",
    "cubes = iris.cube.CubeList(\n",
    "    [series2cube(obs, attr=attr) for obs in observations]\n",
    ")\n",
    "\n",
    "outfile = os.path.join(save_dir, 'OBS_DATA.nc')\n",
    "iris.save(cubes, outfile)"
   ]
  },
  {
   "cell_type": "markdown",
   "metadata": {},
   "source": [
    "Taking a quick look at the observations:"
   ]
  },
  {
   "cell_type": "code",
   "execution_count": 13,
   "metadata": {},
   "outputs": [
    {
     "data": {
      "image/png": "[encoded data removed]",
      "text/plain": [
       "<matplotlib.figure.Figure at 0x7f0a79a6e1d0>"
      ]
     },
     "metadata": {},
     "output_type": "display_data"
    }
   ],
   "source": [
    "%matplotlib inline\n",
    "\n",
    "ax = pd.concat(data).plot(figsize=(11, 2.25))"
   ]
  },
  {
   "cell_type": "markdown",
   "metadata": {},
   "source": [
    "Now it is time to loop the models we found above,"
   ]
  },
  {
   "cell_type": "code",
   "execution_count": 14,
   "metadata": {},
   "outputs": [
    {
     "name": "stdout",
     "output_type": "stream",
     "text": [
      "**************************** Models ****************************\n",
      "\n",
      "[Reading url 1/9]: http://thredds.secoora.org/thredds/dodsC/G1_SST_GLOBAL.nc\n",
      "\n",
      "[Reading url 2/9]: http://geoport-dev.whoi.edu/thredds/dodsC/coawst_4/use/fmrc/coawst_4_use_best.ncd\n",
      "\n",
      "[Reading url 3/9]: http://www.smast.umassd.edu:8080/thredds/dodsC/FVCOM/NECOFS/Forecasts/NECOFS_GOM3_FORECAST.nc\n",
      "\n",
      "[Reading url 4/9]: http://www.smast.umassd.edu:8080/thredds/dodsC/FVCOM/NECOFS/Forecasts/NECOFS_FVCOM_OCEAN_BOSTON_FORECAST.nc\n",
      "\n",
      "[Reading url 5/9]: http://oos.soest.hawaii.edu/thredds/dodsC/pacioos/hycom/global\n",
      "\n",
      "[Reading url 6/9]: http://oos.soest.hawaii.edu/thredds/dodsC/hioos/satellite/dhw_5km\n",
      "\n",
      "[Reading url 7/9]: http://thredds.secoora.org/thredds/dodsC/SECOORA_NCSU_CNAPS.nc\n",
      "\n",
      "[Reading url 8/9]: http://www.smast.umassd.edu:8080/thredds/dodsC/FVCOM/NECOFS/Forecasts/NECOFS_FVCOM_OCEAN_MASSBAY_FORECAST.nc\n",
      "\n",
      "[Reading url 9/9]: http://www.smast.umassd.edu:8080/thredds/dodsC/FVCOM/NECOFS/Forecasts/NECOFS_FVCOM_OCEAN_SCITUATE_FORECAST.nc\n"
     ]
    }
   ],
   "source": [
    "from iris.exceptions import (CoordinateNotFoundError, ConstraintMismatchError,\n",
    "                             MergeError)\n",
    "from ioos_tools.ioos import get_model_name\n",
    "from ioos_tools.tardis import quick_load_cubes, proc_cube, is_model, get_surface\n",
    "\n",
    "print(fmt(' Models '))\n",
    "cubes = dict()\n",
    "for k, url in enumerate(dap_urls):\n",
    "    print('\\n[Reading url {}/{}]: {}'.format(k+1, len(dap_urls), url))\n",
    "    try:\n",
    "        cube = quick_load_cubes(url, config['cf_names'],\n",
    "                                callback=None, strict=True)\n",
    "        if is_model(cube):\n",
    "            cube = proc_cube(cube,\n",
    "                             bbox=config['region']['bbox'],\n",
    "                             time=(config['date']['start'],\n",
    "                                   config['date']['stop']),\n",
    "                             units=config['units'])\n",
    "        else:\n",
    "            print('[Not model data]: {}'.format(url))\n",
    "            continue\n",
    "        cube = get_surface(cube)\n",
    "        mod_name = get_model_name(url)\n",
    "        cubes.update({mod_name: cube})\n",
    "    except (RuntimeError, ValueError,\n",
    "            ConstraintMismatchError, CoordinateNotFoundError,\n",
    "            IndexError) as e:\n",
    "        print('Cannot get cube for: {}\\n{}'.format(url, e))"
   ]
  },
  {
   "cell_type": "markdown",
   "metadata": {},
   "source": [
    "Next, we will match them with the nearest observed time-series. The `max_dist=0.08` is in degrees, that is roughly 8 kilometers."
   ]
  },
  {
   "cell_type": "code",
   "execution_count": 15,
   "metadata": {},
   "outputs": [
    {
     "name": "stdout",
     "output_type": "stream",
     "text": [
      " Downloading to file /home/filipe/IOOS/notebooks_demos/notebooks/latest/G1_SST_GLOBAL.nc \n",
      "[Water  ] BOSTON 16 NM East of Boston, MA\n",
      "Finished processing [G1_SST_GLOBAL]\n",
      " Downloading to file /home/filipe/IOOS/notebooks_demos/notebooks/latest/fmrc-coawst_4_use_best.nc \n",
      "[Water  ] BOSTON 16 NM East of Boston, MA\n",
      "Finished processing [fmrc-coawst_4_use_best]\n",
      " Downloading to file /home/filipe/IOOS/notebooks_demos/notebooks/latest/FVCOM_Forecasts-NECOFS_GOM3_FORECAST.nc \n",
      "[Water  ] BOSTON 16 NM East of Boston, MA\n",
      "Finished processing [FVCOM_Forecasts-NECOFS_GOM3_FORECAST]\n",
      " Downloading to file /home/filipe/IOOS/notebooks_demos/notebooks/latest/Forecasts-NECOFS_FVCOM_OCEAN_BOSTON_FORECAST.nc \n",
      "[No Data] BOSTON 16 NM East of Boston, MA\n",
      "Finished processing [Forecasts-NECOFS_FVCOM_OCEAN_BOSTON_FORECAST]\n",
      " Downloading to file /home/filipe/IOOS/notebooks_demos/notebooks/latest/pacioos_hycom-global.nc \n",
      "[Water  ] BOSTON 16 NM East of Boston, MA\n",
      "Finished processing [pacioos_hycom-global]\n",
      " Downloading to file /home/filipe/IOOS/notebooks_demos/notebooks/latest/hioos_satellite-dhw_5km.nc \n",
      "[Water  ] BOSTON 16 NM East of Boston, MA\n",
      "Finished processing [hioos_satellite-dhw_5km]\n",
      " Downloading to file /home/filipe/IOOS/notebooks_demos/notebooks/latest/SECOORA_NCSU_CNAPS.nc \n",
      "[Water  ] BOSTON 16 NM East of Boston, MA\n",
      "Finished processing [SECOORA_NCSU_CNAPS]\n",
      " Downloading to file /home/filipe/IOOS/notebooks_demos/notebooks/latest/Forecasts-NECOFS_FVCOM_OCEAN_MASSBAY_FORECAST.nc \n",
      "[Water  ] BOSTON 16 NM East of Boston, MA\n",
      "Finished processing [Forecasts-NECOFS_FVCOM_OCEAN_MASSBAY_FORECAST]\n",
      " Downloading to file /home/filipe/IOOS/notebooks_demos/notebooks/latest/Forecasts-NECOFS_FVCOM_OCEAN_SCITUATE_FORECAST.nc \n",
      "[No Data] BOSTON 16 NM East of Boston, MA\n",
      "Finished processing [Forecasts-NECOFS_FVCOM_OCEAN_SCITUATE_FORECAST]\n"
     ]
    }
   ],
   "source": [
    "import iris\n",
    "from iris.pandas import as_series\n",
    "from ioos_tools.tardis import (make_tree, get_nearest_water,\n",
    "                               add_station, ensure_timeseries, remove_ssh)\n",
    "\n",
    "for mod_name, cube in cubes.items():\n",
    "    fname = '{}.nc'.format(mod_name)\n",
    "    fname = os.path.join(save_dir, fname)\n",
    "    print(fmt(' Downloading to file {} '.format(fname)))\n",
    "    try:\n",
    "        tree, lon, lat = make_tree(cube)\n",
    "    except CoordinateNotFoundError as e:\n",
    "        print('Cannot make KDTree for: {}'.format(mod_name))\n",
    "        continue\n",
    "    # Get model series at observed locations.\n",
    "    raw_series = dict()\n",
    "    for obs in observations:\n",
    "        obs = obs._metadata\n",
    "        station = obs['station_code']\n",
    "        try:\n",
    "            kw = dict(k=10, max_dist=0.08, min_var=0.01)\n",
    "            args = cube, tree, obs['lon'], obs['lat']\n",
    "            try:\n",
    "                series, dist, idx = get_nearest_water(*args, **kw)\n",
    "            except RuntimeError as e:\n",
    "                print('Cannot download {!r}.\\n{}'.format(cube, e))\n",
    "                series = None\n",
    "        except ValueError as e:\n",
    "            status = 'No Data'\n",
    "            print('[{}] {}'.format(status, obs['station_name']))\n",
    "            continue\n",
    "        if not series:\n",
    "            status = 'Land   '\n",
    "        else:\n",
    "            raw_series.update({station: series})\n",
    "            series = as_series(series)\n",
    "            status = 'Water  '\n",
    "        print('[{}] {}'.format(status, obs['station_name']))\n",
    "    if raw_series:  # Save cube.\n",
    "        for station, cube in raw_series.items():\n",
    "            cube = add_station(cube, station)\n",
    "            cube = remove_ssh(cube)\n",
    "        try:\n",
    "            cube = iris.cube.CubeList(raw_series.values()).merge_cube()\n",
    "        except MergeError as e:\n",
    "            print(e)\n",
    "        ensure_timeseries(cube)\n",
    "        try:\n",
    "            iris.save(cube, fname)\n",
    "        except AttributeError:\n",
    "            # FIXME: we should patch the bad attribute instead of removing everything.\n",
    "            cube.attributes = {}\n",
    "            iris.save(cube, fname)\n",
    "        del cube\n",
    "    print('Finished processing [{}]'.format(mod_name))"
   ]
  },
  {
   "cell_type": "markdown",
   "metadata": {},
   "source": [
    "Now it is possible to compute some simple comparison metrics. First we'll calculate the model mean bias:\n",
    "\n",
    "$$ \\text{MB} = \\mathbf{\\overline{m}} - \\mathbf{\\overline{o}}$$"
   ]
  },
  {
   "cell_type": "code",
   "execution_count": 16,
   "metadata": {
    "collapsed": true
   },
   "outputs": [],
   "source": [
    "from ioos_tools.ioos import stations_keys\n",
    "\n",
    "\n",
    "def rename_cols(df, config):\n",
    "    cols = stations_keys(config, key='station_name')\n",
    "    return df.rename(columns=cols)"
   ]
  },
  {
   "cell_type": "code",
   "execution_count": 17,
   "metadata": {
    "collapsed": true,
    "scrolled": false
   },
   "outputs": [],
   "source": [
    "from ioos_tools.ioos import load_ncs\n",
    "from ioos_tools.skill_score import mean_bias, apply_skill\n",
    "\n",
    "dfs = load_ncs(config)\n",
    "\n",
    "df = apply_skill(dfs, mean_bias, remove_mean=False, filter_tides=False)\n",
    "skill_score = dict(mean_bias=df.to_dict())\n",
    "\n",
    "# Filter out stations with no valid comparison.\n",
    "df.dropna(how='all', axis=1, inplace=True)\n",
    "df = df.applymap('{:.2f}'.format).replace('nan', '--')"
   ]
  },
  {
   "cell_type": "markdown",
   "metadata": {},
   "source": [
    "And the root mean squared rrror of the deviations from the mean:\n",
    "$$ \\text{CRMS} = \\sqrt{\\left(\\mathbf{m'} - \\mathbf{o'}\\right)^2}$$\n",
    "\n",
    "where: $\\mathbf{m'} = \\mathbf{m} - \\mathbf{\\overline{m}}$ and $\\mathbf{o'} = \\mathbf{o} - \\mathbf{\\overline{o}}$"
   ]
  },
  {
   "cell_type": "code",
   "execution_count": 18,
   "metadata": {
    "collapsed": true
   },
   "outputs": [],
   "source": [
    "from ioos_tools.skill_score import rmse\n",
    "\n",
    "dfs = load_ncs(config)\n",
    "\n",
    "df = apply_skill(dfs, rmse, remove_mean=True, filter_tides=False)\n",
    "skill_score['rmse'] = df.to_dict()\n",
    "\n",
    "# Filter out stations with no valid comparison.\n",
    "df.dropna(how='all', axis=1, inplace=True)\n",
    "df = df.applymap('{:.2f}'.format).replace('nan', '--')"
   ]
  },
  {
   "cell_type": "markdown",
   "metadata": {},
   "source": [
    "The next 2 cells make the scores \"pretty\" for plotting."
   ]
  },
  {
   "cell_type": "code",
   "execution_count": 19,
   "metadata": {
    "collapsed": true
   },
   "outputs": [],
   "source": [
    "import pandas as pd\n",
    "\n",
    "# Stringfy keys.\n",
    "for key in skill_score.keys():\n",
    "    skill_score[key] = {str(k): v for k, v in skill_score[key].items()}\n",
    "\n",
    "mean_bias = pd.DataFrame.from_dict(skill_score['mean_bias'])\n",
    "mean_bias = mean_bias.applymap('{:.2f}'.format).replace('nan', '--')\n",
    "\n",
    "skill_score = pd.DataFrame.from_dict(skill_score['rmse'])\n",
    "skill_score = skill_score.applymap('{:.2f}'.format).replace('nan', '--')"
   ]
  },
  {
   "cell_type": "code",
   "execution_count": 20,
   "metadata": {
    "collapsed": true
   },
   "outputs": [],
   "source": [
    "from ioos_tools.ioos import make_map\n",
    "\n",
    "bbox = config['region']['bbox']\n",
    "units = config['units']\n",
    "run_name = config['run_name']\n",
    "\n",
    "kw = dict(zoom_start=11, line=True, states=False,\n",
    "          secoora_stations=False, layers=False)\n",
    "m = make_map(bbox, **kw)"
   ]
  },
  {
   "cell_type": "markdown",
   "metadata": {},
   "source": [
    "The cells from `[20]` to `[25]` create a [`folium`](https://github.com/python-visualization/folium) map with [`bokeh`](http://bokeh.pydata.org/en/latest/) for the time-series at the observed points.\n",
    "\n",
    "Note that we did mark the nearest model cell location used in the comparison."
   ]
  },
  {
   "cell_type": "code",
   "execution_count": 21,
   "metadata": {},
   "outputs": [
    {
     "data": {
      "text/plain": [
       "<folium.plugins.marker_cluster.MarkerCluster at 0x7f0a715d09e8>"
      ]
     },
     "execution_count": 21,
     "metadata": {},
     "output_type": "execute_result"
    }
   ],
   "source": [
    "all_obs = stations_keys(config)\n",
    "\n",
    "from glob import glob\n",
    "from operator import itemgetter\n",
    "\n",
    "import iris\n",
    "import folium\n",
    "from folium.plugins import MarkerCluster\n",
    "\n",
    "iris.FUTURE.netcdf_promote = True\n",
    "\n",
    "big_list = []\n",
    "for fname in glob(os.path.join(save_dir, '*.nc')):\n",
    "    if 'OBS_DATA' in fname:\n",
    "        continue\n",
    "    cube = iris.load_cube(fname)\n",
    "    model = os.path.split(fname)[1].split('-')[-1].split('.')[0]\n",
    "    lons = cube.coord(axis='X').points\n",
    "    lats = cube.coord(axis='Y').points\n",
    "    stations = cube.coord('station_code').points\n",
    "    models = [model]*lons.size\n",
    "    lista = zip(models, lons.tolist(), lats.tolist(), stations.tolist())\n",
    "    big_list.extend(lista)\n",
    "\n",
    "big_list.sort(key=itemgetter(3))\n",
    "df = pd.DataFrame(big_list, columns=['name', 'lon', 'lat', 'station'])\n",
    "df.set_index('station', drop=True, inplace=True)\n",
    "groups = df.groupby(df.index)\n",
    "\n",
    "\n",
    "locations, popups = [], []\n",
    "for station, info in groups:\n",
    "    sta_name = all_obs[station]\n",
    "    for lat, lon, name in zip(info.lat, info.lon, info.name):\n",
    "        locations.append([lat, lon])\n",
    "        popups.append('[{}]: {}'.format(name, sta_name))\n",
    "\n",
    "MarkerCluster(locations=locations, popups=popups).add_to(m)"
   ]
  },
  {
   "cell_type": "markdown",
   "metadata": {},
   "source": [
    "Here we use a dictionary with some models we expect to find so we can create a better legend for the plots. If any new models are found, we will use its filename in the legend as a default until we can go back and add a short name to our library."
   ]
  },
  {
   "cell_type": "code",
   "execution_count": 22,
   "metadata": {
    "collapsed": true
   },
   "outputs": [],
   "source": [
    "titles = {\n",
    "    'coawst_4_use_best': 'COAWST_4',\n",
    "    'global': 'HYCOM',\n",
    "    'NECOFS_GOM3_FORECAST': 'NECOFS_GOM3',\n",
    "    'NECOFS_FVCOM_OCEAN_MASSBAY_FORECAST': 'NECOFS_MassBay',\n",
    "    'OBS_DATA': 'Observations'\n",
    "}"
   ]
  },
  {
   "cell_type": "code",
   "execution_count": 23,
   "metadata": {
    "collapsed": true
   },
   "outputs": [],
   "source": [
    "from bokeh.resources import CDN\n",
    "from bokeh.plotting import figure\n",
    "from bokeh.embed import file_html\n",
    "from bokeh.models import HoverTool\n",
    "from itertools import cycle\n",
    "from bokeh.palettes import Spectral6\n",
    "\n",
    "from folium import IFrame\n",
    "\n",
    "# Plot defaults.\n",
    "colors = Spectral6\n",
    "colorcycler = cycle(colors)\n",
    "tools = 'pan,box_zoom,reset'\n",
    "width, height = 750, 250\n",
    "\n",
    "\n",
    "def make_plot(df, station):\n",
    "    p = figure(toolbar_location='above',\n",
    "               x_axis_type='datetime',\n",
    "               width=width,\n",
    "               height=height,\n",
    "               tools=tools,\n",
    "               title=str(station))\n",
    "    for column, series in df.iteritems():\n",
    "        series.dropna(inplace=True)\n",
    "        if not series.empty:\n",
    "            line = p.line(\n",
    "                x=series.index,\n",
    "                y=series.values,\n",
    "                legend='%s' % titles.get(column, column),\n",
    "                line_color=next(colorcycler),\n",
    "                line_width=5,\n",
    "                line_cap='round',\n",
    "                line_join='round'\n",
    "            )\n",
    "            if 'OBS_DATA' not in column:\n",
    "                bias = mean_bias[str(station)][column]\n",
    "                skill = skill_score[str(station)][column]\n",
    "            else:\n",
    "                skill = bias = 'NA'\n",
    "            p.add_tools(HoverTool(tooltips=[('Name', '%s' % column),\n",
    "                                            ('Bias', bias),\n",
    "                                            ('Skill', skill)],\n",
    "                                  renderers=[line]))\n",
    "    return p\n",
    "\n",
    "\n",
    "def make_marker(p, station):\n",
    "    lons = stations_keys(config, key='lon')\n",
    "    lats = stations_keys(config, key='lat')\n",
    "\n",
    "    lon, lat = lons[station], lats[station]\n",
    "    html = file_html(p, CDN, station)\n",
    "    iframe = IFrame(html, width=width+40, height=height+80)\n",
    "\n",
    "    popup = folium.Popup(iframe, max_width=2650)\n",
    "    icon = folium.Icon(color='green', icon='stats')\n",
    "    marker = folium.Marker(location=[lat, lon],\n",
    "                           popup=popup,\n",
    "                           icon=icon)\n",
    "    return marker"
   ]
  },
  {
   "cell_type": "code",
   "execution_count": 24,
   "metadata": {},
   "outputs": [
    {
     "data": {
      "text/html": [
       "<div style=\"width:100%;\"><div style=\"position:relative;width:100%;height:0;padding-bottom:60%;\"><iframe src=\"data:text/html;charset=utf-8;base64,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\" style=\"position:absolute;width:100%;height:100%;left:0;top:0;border:none !important;\" allowfullscreen webkitallowfullscreen mozallowfullscreen></iframe></div></div>"
      ],
      "text/plain": [
       "<folium.folium.Map at 0x7f0a71436208>"
      ]
     },
     "execution_count": 24,
     "metadata": {},
     "output_type": "execute_result"
    }
   ],
   "source": [
    "dfs = load_ncs(config)\n",
    "\n",
    "for station in dfs:\n",
    "    sta_name = all_obs[station]\n",
    "    df = dfs[station]\n",
    "    if df.empty:\n",
    "        continue\n",
    "    p = make_plot(df, station)\n",
    "    maker = make_marker(p, station)\n",
    "    maker.add_to(m)\n",
    "\n",
    "m"
   ]
  },
  {
   "cell_type": "markdown",
   "metadata": {},
   "source": [
    "Now we can navigate the map and click on the markers to explorer our findings.\n",
    "\n",
    "The green markers locate the observations locations. They pop-up an interactive plot with the time-series and scores for the models (hover over the lines to se the scores). The blue markers indicate the nearest model grid point found for the comparison."
   ]
  }
 ],
 "metadata": {
  "anaconda-cloud": {},
  "kernelspec": {
   "display_name": "Python [default]",
   "language": "python",
   "name": "python3"
  },
  "language_info": {
   "codemirror_mode": {
    "name": "ipython",
    "version": 3
   },
   "file_extension": ".py",
   "mimetype": "text/x-python",
   "name": "python",
   "nbconvert_exporter": "python",
   "pygments_lexer": "ipython3",
   "version": "3.6.2"
  }
 },
 "nbformat": 4,
 "nbformat_minor": 1
}
